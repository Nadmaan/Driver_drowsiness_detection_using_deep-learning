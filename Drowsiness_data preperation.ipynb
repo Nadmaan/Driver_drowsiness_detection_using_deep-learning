{
 "cells": [
  {
   "cell_type": "code",
   "execution_count": 11,
   "id": "b0e5d90e",
   "metadata": {},
   "outputs": [],
   "source": [
    "import os,random\n",
    "import shutil \n",
    "import glob\n",
    "from tqdm import tqdm \n",
    "import pandas as pd\n",
    "import numpy as np \n",
    "import matplotlib.pyplot as plt"
   ]
  },
  {
   "cell_type": "markdown",
   "id": "5b477712",
   "metadata": {},
   "source": [
    "#subject ID:\n",
    "xxx\n",
    "\n",
    "image number:\n",
    "xxx\n",
    "\n",
    "gender:\n",
    "0 - male\n",
    "1 - famale\n",
    "\n",
    "glasses:\n",
    "0 - no\n",
    "1 - yes\n",
    "\n",
    "eye state:\n",
    "0 - close\n",
    "1 - open\n",
    "\n",
    "reflections:\n",
    "0 - none\n",
    "1 - low\n",
    "2 - high\n",
    "\n",
    "lighting conditions/image quality:\n",
    "0 - bad\n",
    "1 - good\n",
    "\n",
    "sensor type:\n",
    "01 - RealSense SR300 640x480\n",
    "02 - IDS Imaging, 1280x1024\n",
    "03 - Aptina Imagin 752x480\n",
    "\n",
    "example:\n",
    "s001_00123_0_0_0_0_0_01.png\n",
    "\n",
    "\n",
    "\n",
    "\n"
   ]
  },
  {
   "cell_type": "code",
   "execution_count": 3,
   "id": "89a483fc",
   "metadata": {},
   "outputs": [
    {
     "name": "stderr",
     "output_type": "stream",
     "text": [
      "0it [00:00, ?it/s]\n",
      "100%|██████████| 3242/3242 [00:12<00:00, 261.66it/s]\n",
      "100%|██████████| 1114/1114 [00:04<00:00, 259.96it/s]\n",
      "100%|██████████| 679/679 [00:02<00:00, 258.62it/s]\n",
      "100%|██████████| 1069/1069 [00:04<00:00, 245.61it/s]\n",
      "100%|██████████| 736/736 [00:03<00:00, 238.60it/s]\n",
      "100%|██████████| 1012/1012 [00:04<00:00, 244.65it/s]\n",
      "100%|██████████| 624/624 [00:02<00:00, 253.00it/s]\n",
      "100%|██████████| 832/832 [00:03<00:00, 253.59it/s]\n",
      "100%|██████████| 387/387 [00:01<00:00, 247.75it/s]\n",
      "100%|██████████| 399/399 [00:01<00:00, 250.58it/s]\n",
      "100%|██████████| 1648/1648 [00:06<00:00, 241.65it/s]\n",
      "100%|██████████| 8728/8728 [00:35<00:00, 245.79it/s]\n",
      "100%|██████████| 3605/3605 [00:14<00:00, 256.62it/s]\n",
      "100%|██████████| 8884/8884 [00:35<00:00, 252.44it/s]\n",
      "100%|██████████| 1132/1132 [00:04<00:00, 269.30it/s]\n",
      "100%|██████████| 1889/1889 [00:07<00:00, 262.85it/s]\n",
      "100%|██████████| 1648/1648 [00:06<00:00, 267.17it/s]\n",
      "100%|██████████| 4410/4410 [00:16<00:00, 265.43it/s]\n",
      "100%|██████████| 6175/6175 [00:23<00:00, 265.00it/s]\n",
      "100%|██████████| 704/704 [00:02<00:00, 257.01it/s]\n",
      "100%|██████████| 987/987 [00:03<00:00, 265.35it/s]\n",
      "100%|██████████| 382/382 [00:01<00:00, 266.40it/s]\n",
      "100%|██████████| 522/522 [00:01<00:00, 264.73it/s]\n",
      "100%|██████████| 752/752 [00:02<00:00, 262.21it/s]\n",
      "100%|██████████| 1502/1502 [00:06<00:00, 248.26it/s]\n",
      "100%|██████████| 1246/1246 [00:05<00:00, 236.86it/s]\n",
      "100%|██████████| 665/665 [00:03<00:00, 201.97it/s]\n",
      "100%|██████████| 736/736 [00:02<00:00, 249.33it/s]\n",
      "100%|██████████| 1393/1393 [00:05<00:00, 255.13it/s]\n",
      "100%|██████████| 1384/1384 [00:05<00:00, 260.68it/s]\n",
      "100%|██████████| 1738/1738 [00:06<00:00, 254.22it/s]\n",
      "100%|██████████| 6162/6162 [00:24<00:00, 251.94it/s]\n",
      "100%|██████████| 681/681 [00:02<00:00, 255.33it/s]\n",
      "100%|██████████| 739/739 [00:02<00:00, 250.58it/s]\n",
      "100%|██████████| 642/642 [00:02<00:00, 250.91it/s]\n",
      "100%|██████████| 6193/6193 [00:24<00:00, 251.51it/s]\n",
      "100%|██████████| 10257/10257 [00:41<00:00, 249.89it/s]\n"
     ]
    }
   ],
   "source": [
    "Raw_DIR = r\"C:\\Users\\Asus\\Downloads\\mrlEyes_2018_01\\mrlEyes_2018_01\"\n",
    "for dirpath,dirname,filenames in os.walk(Raw_DIR):\n",
    "    for i in tqdm([f for f in filenames if f.endswith('.png')]):\n",
    "        if i.split('_')[4]=='0':\n",
    "            shutil.copy(src=dirpath+'/'+i,dst=r\"C:\\Users\\Asus\\Downloads\\prepared_data\\Closed_eyes\")\n",
    "        \n",
    "        elif i.split('_')[4]=='1':\n",
    "            shutil.copy(src=dirpath+'/'+i,dst=r\"C:\\Users\\Asus\\Downloads\\prepared_data\\Open_eyes\")\n",
    "              "
   ]
  },
  {
   "cell_type": "code",
   "execution_count": 5,
   "id": "ee20c60a",
   "metadata": {},
   "outputs": [],
   "source": [
    "def create_test_closed(source, destination, percent):\n",
    "    '''\n",
    "    divides closed eyes images into given percent and moves from\n",
    "    source to destination.\n",
    "    \n",
    "    Arguments:\n",
    "    source(path): path of source directory\n",
    "    destination(path): path of destination directory\n",
    "    percent(float): percent of data to be divided(range: 0 to 1)\n",
    "    '''\n",
    "    path, dirs, files_closed = next(os.walk(source))\n",
    "    file_count_closed = len(files_closed)\n",
    "    percentage = file_count_closed * percent\n",
    "    to_move = random.sample(glob.glob(source + \"/*.png\"), int(percentage))\n",
    "\n",
    "    for f in enumerate(to_move):\n",
    "        if not os.path.exists(destination):\n",
    "            os.makedirs(destination)\n",
    "        shutil.move(f[1], destination)\n",
    "    print(f'moved {int(percentage)} images to the destination successfully.')  "
   ]
  },
  {
   "cell_type": "code",
   "execution_count": 6,
   "id": "31bad5dc",
   "metadata": {},
   "outputs": [],
   "source": [
    "def create_test_open(source, destination, percent):\n",
    "    '''\n",
    "    divides open eyes images into given percent and moves from\n",
    "    source to destination.\n",
    "    \n",
    "    Arguments:\n",
    "    source(path): path of source directory\n",
    "    destination(path): path of destination directory\n",
    "    percent(float): percent of data to be divided(range: 0 to 1)\n",
    "    '''\n",
    "    path, dirs, files_open = next(os.walk(source))\n",
    "    file_count_open = len(files_open)\n",
    "    percentage = file_count_open * percent\n",
    "    to_move = random.sample(glob.glob(source + \"/*.png\"), int(percentage))\n",
    "\n",
    "    for f in enumerate(to_move):\n",
    "        if not os.path.exists(destination):\n",
    "            os.makedirs(destination)\n",
    "        shutil.move(f[1], destination)\n",
    "    print(f'moved {int(percentage)} images to the destination successfully.')"
   ]
  },
  {
   "cell_type": "code",
   "execution_count": 12,
   "id": "0c791775",
   "metadata": {},
   "outputs": [
    {
     "name": "stdout",
     "output_type": "stream",
     "text": [
      "moved 4194 images to the destination successfully.\n"
     ]
    }
   ],
   "source": [
    "source=r\"C:\\Users\\Asus\\Downloads\\prepared_data\\Closed_eyes\"\n",
    "destination=r\"C:\\Users\\Asus\\Downloads\\prepared_data\\Test\\Closed_eyes\"\n",
    "percent=0.1\n",
    "create_test_closed(source, destination, percent)"
   ]
  },
  {
   "cell_type": "code",
   "execution_count": 13,
   "id": "6d0a0ffd",
   "metadata": {},
   "outputs": [
    {
     "name": "stdout",
     "output_type": "stream",
     "text": [
      "moved 4295 images to the destination successfully.\n"
     ]
    }
   ],
   "source": [
    "source=r\"C:\\Users\\Asus\\Downloads\\prepared_data\\Open_eyes\"\n",
    "destination=r\"C:\\Users\\Asus\\Downloads\\prepared_data\\Test\\Open_eyes\"\n",
    "percent=0.1\n",
    "create_test_open(source, destination, percent)"
   ]
  },
  {
   "cell_type": "code",
   "execution_count": 14,
   "id": "77b8eeaf",
   "metadata": {},
   "outputs": [
    {
     "name": "stdout",
     "output_type": "stream",
     "text": [
      "moved 37752 images to the destination successfully.\n"
     ]
    }
   ],
   "source": [
    "source=r\"C:\\Users\\Asus\\Downloads\\prepared_data\\Closed_eyes\"\n",
    "destination=r\"C:\\Users\\Asus\\Downloads\\prepared_data\\Train\\Closed_eyes\"\n",
    "percent=1\n",
    "create_test_closed(source, destination, percent)"
   ]
  },
  {
   "cell_type": "code",
   "execution_count": 15,
   "id": "2d191fb4",
   "metadata": {},
   "outputs": [
    {
     "name": "stdout",
     "output_type": "stream",
     "text": [
      "moved 38657 images to the destination successfully.\n"
     ]
    }
   ],
   "source": [
    "source=r\"C:\\Users\\Asus\\Downloads\\prepared_data\\Open_eyes\"\n",
    "destination=r\"C:\\Users\\Asus\\Downloads\\prepared_data\\Train\\Open_eyes\"\n",
    "percent=1\n",
    "create_test_open(source, destination, percent)"
   ]
  },
  {
   "cell_type": "code",
   "execution_count": null,
   "id": "36c25fe7",
   "metadata": {},
   "outputs": [],
   "source": []
  }
 ],
 "metadata": {
  "kernelspec": {
   "display_name": "Python 3 (ipykernel)",
   "language": "python",
   "name": "python3"
  },
  "language_info": {
   "codemirror_mode": {
    "name": "ipython",
    "version": 3
   },
   "file_extension": ".py",
   "mimetype": "text/x-python",
   "name": "python",
   "nbconvert_exporter": "python",
   "pygments_lexer": "ipython3",
   "version": "3.9.12"
  }
 },
 "nbformat": 4,
 "nbformat_minor": 5
}
